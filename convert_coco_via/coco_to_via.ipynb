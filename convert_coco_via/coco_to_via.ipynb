{
 "cells": [
  {
   "cell_type": "code",
   "execution_count": 3,
   "id": "f093c5ed",
   "metadata": {},
   "outputs": [
    {
     "name": "stdout",
     "output_type": "stream",
     "text": [
      "✅ VIA-format JSON with 'names' saved to: C:\\Users\\My PC\\Desktop\\maskrcnn\\no-augment\\val\\via_converted_annotations_with_names.json\n"
     ]
    }
   ],
   "source": [
    "import json\n",
    "import uuid\n",
    "import os\n",
    "\n",
    "def convert_coco_to_via_with_names(coco_json_path, output_path):\n",
    "    # Load COCO JSON\n",
    "    with open(coco_json_path, 'r') as f:\n",
    "        coco = json.load(f)\n",
    "\n",
    "    # Map image ID to metadata\n",
    "    image_id_to_info = {img['id']: img for img in coco['images']}\n",
    "\n",
    "    # Map category ID to name\n",
    "    category_id_to_name = {cat['id']: cat['name'] for cat in coco['categories']}\n",
    "\n",
    "    # Group annotations by image_id\n",
    "    image_id_to_annotations = {}\n",
    "    for ann in coco['annotations']:\n",
    "        if ann.get('iscrowd', 0):\n",
    "            continue  # skip crowd annotations\n",
    "        image_id_to_annotations.setdefault(ann['image_id'], []).append(ann)\n",
    "\n",
    "    # Build VIA-format dictionary\n",
    "    via = {}\n",
    "    for image_id, anns in image_id_to_annotations.items():\n",
    "        image_info = image_id_to_info[image_id]\n",
    "        filename = image_info['file_name']\n",
    "        regions = []\n",
    "\n",
    "        for ann in anns:\n",
    "            if isinstance(ann['segmentation'], list):  # Only polygon format\n",
    "                for seg in ann['segmentation']:\n",
    "                    if len(seg) < 6:\n",
    "                        continue  # Invalid polygon\n",
    "                    all_points_x = seg[::2]\n",
    "                    all_points_y = seg[1::2]\n",
    "                    region = {\n",
    "                        \"shape_attributes\": {\n",
    "                            \"name\": \"polygon\",\n",
    "                            \"all_points_x\": all_points_x,\n",
    "                            \"all_points_y\": all_points_y\n",
    "                        },\n",
    "                        \"region_attributes\": {\n",
    "                            \"names\": category_id_to_name.get(ann['category_id'], \"unknown\")\n",
    "                        }\n",
    "                    }\n",
    "                    regions.append(region)\n",
    "\n",
    "        key = str(uuid.uuid4())[:16]  # Unique ID for VIA\n",
    "        via[key] = {\n",
    "            \"filename\": filename,\n",
    "            \"size\": 0,  # Optional\n",
    "            \"regions\": regions,\n",
    "            \"file_attributes\": {}\n",
    "        }\n",
    "\n",
    "    # Save output JSON\n",
    "    with open(output_path, 'w') as f:\n",
    "        json.dump(via, f, indent=2)\n",
    "\n",
    "    print(f\"✅ VIA-format JSON with 'names' saved to: {output_path}\")\n",
    "\n",
    "\n",
    "# ----------- USAGE EXAMPLE -----------\n",
    "\n",
    "if __name__ == \"__main__\":\n",
    "    # Set your paths here\n",
    "    coco_input_path = r\"C:\\Users\\My PC\\Desktop\\maskrcnn\\no-augment\\val\\_annotations.coco.json\"\n",
    "    via_output_path = r\"C:\\Users\\My PC\\Desktop\\maskrcnn\\no-augment\\val\\via_converted_annotations_with_names.json\"\n",
    "\n",
    "    # Run the converter\n",
    "    convert_coco_to_via_with_names(coco_input_path, via_output_path)\n"
   ]
  },
  {
   "cell_type": "code",
   "execution_count": null,
   "id": "9d649228",
   "metadata": {},
   "outputs": [
    {
     "name": "stdout",
     "output_type": "stream",
     "text": [
      "✅ VIA annotations saved to: C:\\Users\\My PC\\Desktop\\maskrcnn\\no-augment\\via_converted_annotations_with_names.json\n"
     ]
    }
   ],
   "source": [
    "# import json\n",
    "# import os\n",
    "# from collections import defaultdict\n",
    "\n",
    "# def coco_to_via(coco_json_paths, output_path):\n",
    "#     via_data = {}\n",
    "#     ann_id_map = defaultdict(list)\n",
    "\n",
    "#     for coco_json_path in coco_json_paths:\n",
    "#         with open(coco_json_path, 'r') as f:\n",
    "#             coco = json.load(f)\n",
    "\n",
    "#         images = {img['id']: img for img in coco['images']}\n",
    "#         categories = {cat['id']: cat['name'] for cat in coco['categories']}\n",
    "\n",
    "#         for ann in coco['annotations']:\n",
    "#             image_id = ann['image_id']\n",
    "#             img_info = images[image_id]\n",
    "#             file_name = img_info['file_name']\n",
    "#             file_key = file_name  # VIA uses filename as key\n",
    "\n",
    "#             if file_key not in via_data:\n",
    "#                 via_data[file_key] = {\n",
    "#                     'filename': file_name,\n",
    "#                     'size': -1,\n",
    "#                     'regions': [],\n",
    "#                     'file_attributes': {}\n",
    "#                 }\n",
    "\n",
    "#             if ann.get(\"iscrowd\", 0) == 1:\n",
    "#                 continue  # skip RLE encoded masks for simplicity\n",
    "\n",
    "#             segmentation = ann['segmentation'][0]  # flatten polygon\n",
    "#             all_points_x = segmentation[::2]\n",
    "#             all_points_y = segmentation[1::2]\n",
    "#             category_name = categories[ann['category_id']]\n",
    "\n",
    "#             region = {\n",
    "#                 \"shape_attributes\": {\n",
    "#                     \"name\": \"polygon\",\n",
    "#                     \"all_points_x\": all_points_x,\n",
    "#                     \"all_points_y\": all_points_y\n",
    "#                 },\n",
    "#                 \"region_attributes\": {\n",
    "#                     \"names\": category_name  # Rename here if needed\n",
    "#                 }\n",
    "#             }\n",
    "\n",
    "#             via_data[file_key]['regions'].append(region)\n",
    "\n",
    "#     # Convert dict to VIA-style with unique keys\n",
    "#     via_final = {}\n",
    "#     for idx, (key, data) in enumerate(via_data.items()):\n",
    "#         via_key = f\"{key}{idx}\"\n",
    "#         via_final[via_key] = data\n",
    "\n",
    "#     # Save the combined VIA annotation\n",
    "#     with open(output_path, 'w') as f:\n",
    "#         json.dump(via_final, f, indent=2)\n",
    "\n",
    "#     print(f\"✅ VIA annotations saved to: {output_path}\")\n",
    "\n",
    "\n",
    "# # 🔧 Example usage\n",
    "# coco_json_paths = [\n",
    "#     r\"C:\\Users\\My PC\\Desktop\\maskrcnn\\no-augment\\train\\_annotations.coco.json\",\n",
    "#     r\"C:\\Users\\My PC\\Desktop\\maskrcnn\\no-augment\\valid\\_annotations.coco.json\",\n",
    "#     r\"C:\\Users\\My PC\\Desktop\\maskrcnn\\no-augment\\test\\_annotations.coco.json\"\n",
    "# ]\n",
    "\n",
    "# output_path = r\"C:\\Users\\My PC\\Desktop\\maskrcnn\\no-augment\\via_converted_annotations_with_names.json\"\n",
    "\n",
    "# coco_to_via(coco_json_paths, output_path)\n"
   ]
  },
  {
   "cell_type": "code",
   "execution_count": 10,
   "id": "e483343b",
   "metadata": {},
   "outputs": [
    {
     "name": "stdout",
     "output_type": "stream",
     "text": [
      "Fri Aug  8 17:36:00 2025       \n",
      "+-----------------------------------------------------------------------------------------+\n",
      "| NVIDIA-SMI 576.57                 Driver Version: 576.57         CUDA Version: 12.9     |\n",
      "|-----------------------------------------+------------------------+----------------------+\n",
      "| GPU  Name                  Driver-Model | Bus-Id          Disp.A | Volatile Uncorr. ECC |\n",
      "| Fan  Temp   Perf          Pwr:Usage/Cap |           Memory-Usage | GPU-Util  Compute M. |\n",
      "|                                         |                        |               MIG M. |\n",
      "|=========================================+========================+======================|\n",
      "|   0  NVIDIA GeForce RTX 4050 ...  WDDM  |   00000000:01:00.0 Off |                  N/A |\n",
      "| N/A   44C    P8              1W /   80W |      79MiB /   6141MiB |      0%      Default |\n",
      "|                                         |                        |                  N/A |\n",
      "+-----------------------------------------+------------------------+----------------------+\n",
      "                                                                                         \n",
      "+-----------------------------------------------------------------------------------------+\n",
      "| Processes:                                                                              |\n",
      "|  GPU   GI   CI              PID   Type   Process name                        GPU Memory |\n",
      "|        ID   ID                                                               Usage      |\n",
      "|=========================================================================================|\n",
      "|    0   N/A  N/A            2040      C   ...\\envs\\py3-6-tensor\\python.exe      N/A      |\n",
      "+-----------------------------------------------------------------------------------------+\n"
     ]
    }
   ],
   "source": [
    "!nvidia-smi"
   ]
  },
  {
   "cell_type": "code",
   "execution_count": 2,
   "id": "39fe71a5",
   "metadata": {},
   "outputs": [
    {
     "name": "stdout",
     "output_type": "stream",
     "text": [
      "Num GPUs Available: 0\n"
     ]
    }
   ],
   "source": [
    "import tensorflow as tf\n",
    "print(\"Num GPUs Available:\", len(tf.config.experimental.list_physical_devices('GPU')))\n"
   ]
  },
  {
   "cell_type": "code",
   "execution_count": 3,
   "id": "c67cff39",
   "metadata": {},
   "outputs": [
    {
     "name": "stdout",
     "output_type": "stream",
     "text": [
      "1.19.5\n"
     ]
    }
   ],
   "source": [
    "import numpy as np\n",
    "print(np.__version__)\n"
   ]
  }
 ],
 "metadata": {
  "kernelspec": {
   "display_name": "test",
   "language": "python",
   "name": "python3"
  },
  "language_info": {
   "codemirror_mode": {
    "name": "ipython",
    "version": 3
   },
   "file_extension": ".py",
   "mimetype": "text/x-python",
   "name": "python",
   "nbconvert_exporter": "python",
   "pygments_lexer": "ipython3",
   "version": "3.9.23"
  }
 },
 "nbformat": 4,
 "nbformat_minor": 5
}
