{
 "cells": [
  {
   "cell_type": "code",
   "execution_count": 7,
   "id": "9dfb2ad9",
   "metadata": {},
   "outputs": [
    {
     "name": "stdout",
     "output_type": "stream",
     "text": [
      "✅ Merged 993 (train) + 124 (val) = 1117 entries into 'merged_via_annotations.json'\n"
     ]
    }
   ],
   "source": [
    "import json\n",
    "\n",
    "# === Input file paths ===\n",
    "train_file = r\"C:\\Users\\My PC\\Desktop\\maskrcnn - py3.8\\Mask-R-CNN-using-Tensorflow2\\no-augment\\train\\via_converted_annotations_with_names.json\"\n",
    "val_file = r\"C:\\Users\\My PC\\Desktop\\maskrcnn - py3.8\\Mask-R-CNN-using-Tensorflow2\\no-augment\\valid\\via_converted_annotations_with_names.json\"\n",
    "\n",
    "# === Output file path ===\n",
    "output_file = \"merged_via_annotations.json\"\n",
    "\n",
    "# Load both files\n",
    "with open(train_file, \"r\", encoding=\"utf-8\") as f:\n",
    "    train_data = json.load(f)\n",
    "\n",
    "with open(val_file, \"r\", encoding=\"utf-8\") as f:\n",
    "    val_data = json.load(f)\n",
    "\n",
    "# Merge dictionaries\n",
    "merged_data = {**train_data, **val_data}  # train first, val overwrites if duplicate IDs\n",
    "\n",
    "# Save merged result\n",
    "with open(output_file, \"w\", encoding=\"utf-8\") as f:\n",
    "    json.dump(merged_data, f, ensure_ascii=False, indent=2)\n",
    "\n",
    "print(f\"✅ Merged {len(train_data)} (train) + {len(val_data)} (val) = {len(merged_data)} entries into '{output_file}'\")\n"
   ]
  },
  {
   "cell_type": "code",
   "execution_count": 6,
   "id": "ed52e476",
   "metadata": {},
   "outputs": [
    {
     "name": "stdout",
     "output_type": "stream",
     "text": [
      "<class 'dict'>\n",
      "Top-level keys: ['8c96e641-7567-4d', 'fc4f943a-d0ba-41', 'd0a6491f-b639-46', '1f46702b-c9b0-43', 'daa60494-8f1a-46', 'ed33f239-ca24-45', 'd2010961-d659-4e', '34a2380f-6b64-4f', '8ce7e760-718c-48', '234f227e-770c-4e', 'f6c2d5d5-8fbe-4d', '3e024c9a-c9a2-4c', '1a8d0794-645a-40', '1ae2ce98-2d5b-4d', 'ca064af4-4e5f-4c', '419fe2d1-6561-4b', '450c721a-862e-48', '09b88e8e-95d5-48', 'd65a6f26-4539-4b', 'a9a3e471-f981-47']\n"
     ]
    }
   ],
   "source": [
    "import json\n",
    "\n",
    "path = r\"C:\\Users\\My PC\\Desktop\\maskrcnn - py3.8\\Mask-R-CNN-using-Tensorflow2\\no-augment\\train\\via_converted_annotations_with_names.json\"\n",
    "\n",
    "with open(path, \"r\", encoding=\"utf-8\") as f:\n",
    "    data = json.load(f)\n",
    "\n",
    "print(type(data))\n",
    "if isinstance(data, dict):\n",
    "    print(\"Top-level keys:\", list(data.keys())[:20])\n",
    "elif isinstance(data, list):\n",
    "    print(\"First item sample:\", data[0])\n"
   ]
  }
 ],
 "metadata": {
  "kernelspec": {
   "display_name": "python3.8",
   "language": "python",
   "name": "python3"
  },
  "language_info": {
   "codemirror_mode": {
    "name": "ipython",
    "version": 3
   },
   "file_extension": ".py",
   "mimetype": "text/x-python",
   "name": "python",
   "nbconvert_exporter": "python",
   "pygments_lexer": "ipython3",
   "version": "3.8.0"
  }
 },
 "nbformat": 4,
 "nbformat_minor": 5
}
