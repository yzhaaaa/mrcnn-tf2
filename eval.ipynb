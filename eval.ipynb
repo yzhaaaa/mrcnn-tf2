{
 "cells": [
  {
   "cell_type": "code",
   "execution_count": 1,
   "id": "8b09bdcc",
   "metadata": {},
   "outputs": [],
   "source": [
    "import os,sys\n",
    "import pandas as pd\n",
    "from PIL import Image\n",
    "from os import listdir\n",
    "from numpy import zeros, asarray, expand_dims, mean\n",
    "import numpy as np\n",
    "\n",
    "ROOT_DIR = os.path.abspath(r\"C:\\Users\\My PC\\Desktop\\maskrcnn - py3.8 2\\Mask-R-CNN-using-Tensorflow2\")\n",
    "sys.path.append(ROOT_DIR) \n",
    "\n",
    "from mrcnn.utils import Dataset,extract_bboxes\n",
    "from mrcnn.visualize import display_instances\n",
    "from matplotlib import pyplot\n",
    "from mrcnn.config import Config\n",
    "from mrcnn.model import MaskRCNN\n",
    "from mrcnn.utils import compute_ap\n",
    "from mrcnn.model import load_image_gt\n",
    "from mrcnn.model import mold_image\n",
    "\n",
    "import warnings\n",
    "warnings.filterwarnings(\"ignore\")"
   ]
  },
  {
   "cell_type": "code",
   "execution_count": 2,
   "id": "8d641be7",
   "metadata": {},
   "outputs": [],
   "source": [
    "class PredictionConfig(Config):\n",
    "    NAME = \"ped_cfg\"\n",
    "    NUM_CLASSES = 1 + 3\n",
    "    GPU_COUNT = 1\n",
    "    IMAGES_PER_GPU = 1\n",
    "    USE_MINI_MASK = False"
   ]
  },
  {
   "cell_type": "code",
   "execution_count": 3,
   "id": "013d5494",
   "metadata": {},
   "outputs": [
    {
     "name": "stdout",
     "output_type": "stream",
     "text": [
      "WARNING:tensorflow:From c:\\Users\\My PC\\anaconda3\\envs\\python3.8\\lib\\site-packages\\tensorflow\\python\\util\\deprecation.py:605: calling map_fn_v2 (from tensorflow.python.ops.map_fn) with dtype is deprecated and will be removed in a future version.\n",
      "Instructions for updating:\n",
      "Use fn_output_signature instead\n"
     ]
    }
   ],
   "source": [
    "cfg = PredictionConfig()\n",
    "model = MaskRCNN(mode='inference', model_dir=r'C:\\Users\\My PC\\Desktop\\maskrcnn - py3.8 2\\Mask-R-CNN-using-Tensorflow2\\mask_rcnn_fishes_0099.h5', config=cfg)"
   ]
  },
  {
   "cell_type": "code",
   "execution_count": 4,
   "id": "ef0bfd35",
   "metadata": {},
   "outputs": [
    {
     "name": "stdout",
     "output_type": "stream",
     "text": [
      ".git\n",
      "cocoapi\n",
      "convert_coco_via\n",
      "custom.ipynb\n",
      "custom.py\n",
      "eval.ipynb\n",
      "gt_pred_test.json\n",
      "mask_rcnn_coco.h5\n",
      "mask_rcnn_fishes_0099.h5\n",
      "merged_via_annotations.json\n",
      "mrcnn\n",
      "no-augment\n",
      "README.md\n",
      "requirements.txt\n",
      "test_model.ipynb\n",
      "validation_per_image_ap50.csv\n",
      "via_train.json\n",
      "via_valid.json\n"
     ]
    }
   ],
   "source": [
    "for i in listdir():\n",
    "    print(i)\n",
    "    if i[:3]=='ped':\n",
    "        path=i"
   ]
  },
  {
   "cell_type": "code",
   "execution_count": 5,
   "id": "8f770bdc",
   "metadata": {},
   "outputs": [],
   "source": [
    "model.load_weights(r'C:\\Users\\My PC\\Desktop\\maskrcnn - py3.8 2\\Mask-R-CNN-using-Tensorflow2\\mask_rcnn_fishes_0099.h5', by_name=True)"
   ]
  },
  {
   "cell_type": "code",
   "execution_count": null,
   "id": "acfc3bbc",
   "metadata": {},
   "outputs": [],
   "source": [
    "# def evaluate_model(dataset, model, cfg):\n",
    "#     APs = list()\n",
    "#     j=0\n",
    "#     for image_id in dataset.image_ids:\n",
    "#         if j>50:\n",
    "#             continue\n",
    "#         image, image_meta, gt_class_id, gt_bbox, gt_mask = load_image_gt(dataset, cfg, image_id)\n",
    "#         scaled_image = mold_image(image, cfg)\n",
    "#         sample = expand_dims(scaled_image, 0)\n",
    "#         yhat = model.detect(sample, verbose=0)\n",
    "#         r = yhat[0]\n",
    "#         AP, _, _, _ = compute_ap(gt_bbox, gt_class_id, gt_mask, r[\"rois\"], r[\"class_ids\"], r[\"scores\"], r['masks'])\n",
    "#         APs.append(AP)\n",
    "#         j+=1\n",
    "#     mAP = mean(APs)\n",
    "#     return mAP"
   ]
  },
  {
   "cell_type": "code",
   "execution_count": 22,
   "id": "56597d19",
   "metadata": {},
   "outputs": [
    {
     "name": "stdout",
     "output_type": "stream",
     "text": [
      "Collecting pycocotools-windows\n",
      "  Downloading pycocotools_windows-2.0.0.2-cp38-cp38-win_amd64.whl.metadata (521 bytes)\n",
      "Requirement already satisfied: setuptools>=18.0 in c:\\users\\my pc\\anaconda3\\envs\\python3.8\\lib\\site-packages (from pycocotools-windows) (75.1.0)\n",
      "Requirement already satisfied: cython>=0.27.3 in c:\\users\\my pc\\anaconda3\\envs\\python3.8\\lib\\site-packages (from pycocotools-windows) (0.29.21)\n",
      "Requirement already satisfied: matplotlib>=2.1.0 in c:\\users\\my pc\\anaconda3\\envs\\python3.8\\lib\\site-packages (from pycocotools-windows) (3.3.4)\n",
      "Requirement already satisfied: cycler>=0.10 in c:\\users\\my pc\\anaconda3\\envs\\python3.8\\lib\\site-packages (from matplotlib>=2.1.0->pycocotools-windows) (0.12.1)\n",
      "Requirement already satisfied: kiwisolver>=1.0.1 in c:\\users\\my pc\\anaconda3\\envs\\python3.8\\lib\\site-packages (from matplotlib>=2.1.0->pycocotools-windows) (1.4.7)\n",
      "Requirement already satisfied: numpy>=1.15 in c:\\users\\my pc\\anaconda3\\envs\\python3.8\\lib\\site-packages (from matplotlib>=2.1.0->pycocotools-windows) (1.19.2)\n",
      "Requirement already satisfied: pillow>=6.2.0 in c:\\users\\my pc\\anaconda3\\envs\\python3.8\\lib\\site-packages (from matplotlib>=2.1.0->pycocotools-windows) (8.1.2)\n",
      "Requirement already satisfied: pyparsing!=2.0.4,!=2.1.2,!=2.1.6,>=2.0.3 in c:\\users\\my pc\\anaconda3\\envs\\python3.8\\lib\\site-packages (from matplotlib>=2.1.0->pycocotools-windows) (3.1.4)\n",
      "Requirement already satisfied: python-dateutil>=2.1 in c:\\users\\my pc\\anaconda3\\envs\\python3.8\\lib\\site-packages (from matplotlib>=2.1.0->pycocotools-windows) (2.9.0.post0)\n",
      "Requirement already satisfied: six>=1.5 in c:\\users\\my pc\\anaconda3\\envs\\python3.8\\lib\\site-packages (from python-dateutil>=2.1->matplotlib>=2.1.0->pycocotools-windows) (1.15.0)\n",
      "Downloading pycocotools_windows-2.0.0.2-cp38-cp38-win_amd64.whl (84 kB)\n",
      "Installing collected packages: pycocotools-windows\n",
      "Successfully installed pycocotools-windows-2.0.0.2\n",
      "Note: you may need to restart the kernel to use updated packages.\n"
     ]
    }
   ],
   "source": [
    "pip install pycocotools-windows\n"
   ]
  },
  {
   "cell_type": "code",
   "execution_count": 18,
   "id": "b56b05d5",
   "metadata": {},
   "outputs": [],
   "source": [
    "import numpy as np\n",
    "from mrcnn.model import load_image_gt, mold_image\n",
    "from mrcnn.utils import compute_ap\n",
    "\n",
    "def evaluate_model(dataset, model, cfg, iou_thresholds=None, max_images=50):\n",
    "    \"\"\"\n",
    "    dataset: Mask R-CNN Dataset object\n",
    "    model: trained Mask R-CNN model\n",
    "    cfg: model config\n",
    "    iou_thresholds: list of IoU thresholds (default = np.arange(0.5, 1.0, 0.05))\n",
    "    max_images: number of images to evaluate (default = 50)\n",
    "    \"\"\"\n",
    "\n",
    "    if iou_thresholds is None:\n",
    "        iou_thresholds = np.arange(0.5, 1.0, 0.05)  # COCO standard: 0.5:0.95\n",
    "\n",
    "    APs = {thr: [] for thr in iou_thresholds}\n",
    "    precisions, recalls = [], []\n",
    "\n",
    "    for i, image_id in enumerate(dataset.image_ids):\n",
    "        if i >= max_images:\n",
    "            break\n",
    "\n",
    "        # Load image and ground truth\n",
    "        image, image_meta, gt_class_id, gt_bbox, gt_mask = load_image_gt(dataset, cfg, image_id)\n",
    "        molded_image = mold_image(image, cfg)\n",
    "        sample = np.expand_dims(molded_image, 0)\n",
    "\n",
    "        # Run detection\n",
    "        results = model.detect(sample, verbose=0)\n",
    "        r = results[0]\n",
    "\n",
    "        # Compute AP for each IoU threshold\n",
    "        for thr in iou_thresholds:\n",
    "            AP, precision, recall, _ = compute_ap(\n",
    "                gt_bbox, gt_class_id, gt_mask,\n",
    "                r[\"rois\"], r[\"class_ids\"], r[\"scores\"], r[\"masks\"],\n",
    "                iou_threshold=thr\n",
    "            )\n",
    "            APs[thr].append(AP)\n",
    "            if thr == 0.5:  # store precision/recall only for IoU=0.5\n",
    "                precisions.append(np.mean(precision))\n",
    "                recalls.append(np.mean(recall))\n",
    "\n",
    "    # Aggregate results\n",
    "    mean_ap_50 = np.mean(APs[0.5]) if 0.5 in APs else None\n",
    "    mean_ap_5095 = np.mean([np.mean(APs[thr]) for thr in iou_thresholds])\n",
    "    mean_precision = np.mean(precisions)\n",
    "    mean_recall = np.mean(recalls)\n",
    "\n",
    "    print(\"Precision (IoU=0.5): %.3f\" % mean_precision)\n",
    "    print(\"Recall (IoU=0.5): %.3f\" % mean_recall)\n",
    "    print(\"mAP@0.5: %.3f\" % mean_ap_50)\n",
    "    print(\"mAP@0.5:0.95: %.3f\" % mean_ap_5095)\n",
    "\n",
    "    return mean_precision, mean_recall, mean_ap_50, mean_ap_5095\n"
   ]
  },
  {
   "cell_type": "code",
   "execution_count": 15,
   "id": "36ff1f5a",
   "metadata": {},
   "outputs": [],
   "source": [
    "import os\n",
    "import numpy as np\n",
    "from mrcnn.utils import Dataset\n",
    "from pycocotools.coco import COCO\n",
    "\n",
    "class FishCocoDataset(Dataset):\n",
    "    def load_dataset(self, dataset_dir, subset):\n",
    "        \"\"\"\n",
    "        dataset_dir: root dataset folder\n",
    "        subset: 'train' or 'valid'\n",
    "        \"\"\"\n",
    "\n",
    "        # Load COCO annotations\n",
    "        ann_file = os.path.join(dataset_dir, subset, \"_annotations.coco.json\")\n",
    "        coco = COCO(ann_file)\n",
    "\n",
    "        # Add classes (make sure these match your COCO categories)\n",
    "        self.add_class(\"dataset\", 1, \"catfish\")\n",
    "        self.add_class(\"dataset\", 2, \"milkfish\")\n",
    "        self.add_class(\"dataset\", 3, \"molobicus\")\n",
    "\n",
    "        # Load all images\n",
    "        image_ids = list(coco.imgs.keys())\n",
    "        for image_id in image_ids:\n",
    "            image_info = coco.imgs[image_id]\n",
    "            path = os.path.join(dataset_dir, subset, image_info[\"file_name\"])\n",
    "\n",
    "            self.add_image(\n",
    "                \"dataset\",\n",
    "                image_id=image_id,\n",
    "                path=path,\n",
    "                annotations=coco.loadAnns(coco.getAnnIds(imgIds=[image_id]))\n",
    "            )\n",
    "\n",
    "        self.coco = coco  # store reference for later\n",
    "\n",
    "    def load_mask(self, image_id):\n",
    "        \"\"\"Load instance masks for an image\"\"\"\n",
    "        image_info = self.image_info[image_id]\n",
    "        annotations = image_info[\"annotations\"]\n",
    "\n",
    "        masks = []\n",
    "        class_ids = []\n",
    "        for ann in annotations:\n",
    "            class_id = ann[\"category_id\"]\n",
    "            if class_id:\n",
    "                # Decode segmentation mask\n",
    "                mask = self.coco.annToMask(ann)\n",
    "                masks.append(mask)\n",
    "                class_ids.append(class_id)\n",
    "\n",
    "        if masks:\n",
    "            masks = np.stack(masks, axis=-1)\n",
    "            class_ids = np.array(class_ids, dtype=np.int32)\n",
    "            return masks, class_ids\n",
    "        else:\n",
    "            # No annotations\n",
    "            return np.empty([0, 0, 0]), np.array([], dtype=np.int32)\n",
    "\n",
    "    def image_reference(self, image_id):\n",
    "        return self.image_info[image_id][\"path\"]\n"
   ]
  },
  {
   "cell_type": "code",
   "execution_count": 8,
   "id": "57a31bd8",
   "metadata": {},
   "outputs": [],
   "source": [
    "dataset = r\"C:\\Users\\My PC\\Desktop\\maskrcnn - py3.8 2\\Mask-R-CNN-using-Tensorflow2\\no-augment\""
   ]
  },
  {
   "cell_type": "code",
   "execution_count": 19,
   "id": "2edf8601",
   "metadata": {},
   "outputs": [
    {
     "name": "stdout",
     "output_type": "stream",
     "text": [
      "loading annotations into memory...\n",
      "Done (t=0.09s)\n",
      "creating index...\n",
      "index created!\n",
      "loading annotations into memory...\n",
      "Done (t=0.01s)\n",
      "creating index...\n",
      "index created!\n",
      "Precision (IoU=0.5): 0.562\n",
      "Recall (IoU=0.5): 0.430\n",
      "mAP@0.5: 0.489\n",
      "mAP@0.5:0.95: 0.249\n"
     ]
    }
   ],
   "source": [
    "# Training dataset\n",
    "train_set = FishCocoDataset()\n",
    "train_set.load_dataset(dataset, \"train\")\n",
    "train_set.prepare()\n",
    "\n",
    "# Validation dataset\n",
    "val_set = FishCocoDataset()\n",
    "val_set.load_dataset(dataset, \"valid\")\n",
    "val_set.prepare()\n",
    "\n",
    "# Evaluate\n",
    "# train_mAP = evaluate_model(train_set, model, cfg)\n",
    "# print(\"Train mAP: %.3f\" % train_mAP)\n",
    "# val_mAP = evaluate_model(val_set, model, cfg)\n",
    "# print(\"Test mAP: %.3f\" % val_mAP)\n",
    "\n",
    "precision, recall, mAP50, mAP5095 = evaluate_model(val_set, model, cfg)\n"
   ]
  },
  {
   "cell_type": "code",
   "execution_count": 14,
   "id": "763b80b1",
   "metadata": {},
   "outputs": [
    {
     "ename": "SyntaxError",
     "evalue": "invalid syntax (3902050483.py, line 1)",
     "output_type": "error",
     "traceback": [
      "\u001b[1;36m  Cell \u001b[1;32mIn[14], line 1\u001b[1;36m\u001b[0m\n\u001b[1;33m    dir \"C:\\Users\\My PC\\Desktop\\maskrcnn - py3.8 2\\Mask-R-CNN-using-Tensorflow2\\no-augment\\train\\images\" | findstr test_53\u001b[0m\n\u001b[1;37m        ^\u001b[0m\n\u001b[1;31mSyntaxError\u001b[0m\u001b[1;31m:\u001b[0m invalid syntax\n"
     ]
    }
   ],
   "source": [
    "dir \"C:\\Users\\My PC\\Desktop\\maskrcnn - py3.8 2\\Mask-R-CNN-using-Tensorflow2\\no-augment\\train\\images\" | findstr test_53\n"
   ]
  },
  {
   "cell_type": "code",
   "execution_count": null,
   "id": "0cf07f5f",
   "metadata": {},
   "outputs": [],
   "source": []
  }
 ],
 "metadata": {
  "kernelspec": {
   "display_name": "python3.8",
   "language": "python",
   "name": "python3"
  },
  "language_info": {
   "codemirror_mode": {
    "name": "ipython",
    "version": 3
   },
   "file_extension": ".py",
   "mimetype": "text/x-python",
   "name": "python",
   "nbconvert_exporter": "python",
   "pygments_lexer": "ipython3",
   "version": "3.8.0"
  }
 },
 "nbformat": 4,
 "nbformat_minor": 5
}
